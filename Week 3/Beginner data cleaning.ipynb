{
 "cells": [
  {
   "cell_type": "code",
   "execution_count": 1,
   "id": "e581e4d5",
   "metadata": {},
   "outputs": [],
   "source": [
    "import pandas as pd"
   ]
  },
  {
   "cell_type": "code",
   "execution_count": 2,
   "id": "8bc542dd",
   "metadata": {},
   "outputs": [],
   "source": [
    "df = pd.read_csv('Data-cleaning-for-beginners-using-pandas.csv')"
   ]
  },
  {
   "cell_type": "code",
   "execution_count": 3,
   "id": "006b05db",
   "metadata": {},
   "outputs": [
    {
     "data": {
      "text/html": [
       "<div>\n",
       "<style scoped>\n",
       "    .dataframe tbody tr th:only-of-type {\n",
       "        vertical-align: middle;\n",
       "    }\n",
       "\n",
       "    .dataframe tbody tr th {\n",
       "        vertical-align: top;\n",
       "    }\n",
       "\n",
       "    .dataframe thead th {\n",
       "        text-align: right;\n",
       "    }\n",
       "</style>\n",
       "<table border=\"1\" class=\"dataframe\">\n",
       "  <thead>\n",
       "    <tr style=\"text-align: right;\">\n",
       "      <th></th>\n",
       "      <th>Index</th>\n",
       "      <th>Age</th>\n",
       "      <th>Salary</th>\n",
       "      <th>Rating</th>\n",
       "      <th>Location</th>\n",
       "      <th>Established</th>\n",
       "      <th>Easy Apply</th>\n",
       "    </tr>\n",
       "  </thead>\n",
       "  <tbody>\n",
       "    <tr>\n",
       "      <th>0</th>\n",
       "      <td>0</td>\n",
       "      <td>44.0</td>\n",
       "      <td>$44k-$99k</td>\n",
       "      <td>5.4</td>\n",
       "      <td>India,In</td>\n",
       "      <td>1999</td>\n",
       "      <td>TRUE</td>\n",
       "    </tr>\n",
       "    <tr>\n",
       "      <th>1</th>\n",
       "      <td>1</td>\n",
       "      <td>66.0</td>\n",
       "      <td>$55k-$66k</td>\n",
       "      <td>3.5</td>\n",
       "      <td>New York,Ny</td>\n",
       "      <td>2002</td>\n",
       "      <td>TRUE</td>\n",
       "    </tr>\n",
       "    <tr>\n",
       "      <th>2</th>\n",
       "      <td>2</td>\n",
       "      <td>NaN</td>\n",
       "      <td>$77k-$89k</td>\n",
       "      <td>-1.0</td>\n",
       "      <td>New York,Ny</td>\n",
       "      <td>-1</td>\n",
       "      <td>-1</td>\n",
       "    </tr>\n",
       "    <tr>\n",
       "      <th>3</th>\n",
       "      <td>3</td>\n",
       "      <td>64.0</td>\n",
       "      <td>$44k-$99k</td>\n",
       "      <td>4.4</td>\n",
       "      <td>India In</td>\n",
       "      <td>1988</td>\n",
       "      <td>-1</td>\n",
       "    </tr>\n",
       "    <tr>\n",
       "      <th>4</th>\n",
       "      <td>4</td>\n",
       "      <td>25.0</td>\n",
       "      <td>$44k-$99k</td>\n",
       "      <td>6.4</td>\n",
       "      <td>Australia Aus</td>\n",
       "      <td>2002</td>\n",
       "      <td>-1</td>\n",
       "    </tr>\n",
       "  </tbody>\n",
       "</table>\n",
       "</div>"
      ],
      "text/plain": [
       "   Index   Age     Salary  Rating       Location  Established Easy Apply\n",
       "0      0  44.0  $44k-$99k     5.4       India,In         1999       TRUE\n",
       "1      1  66.0  $55k-$66k     3.5    New York,Ny         2002       TRUE\n",
       "2      2   NaN  $77k-$89k    -1.0    New York,Ny           -1         -1\n",
       "3      3  64.0  $44k-$99k     4.4       India In         1988         -1\n",
       "4      4  25.0  $44k-$99k     6.4  Australia Aus         2002         -1"
      ]
     },
     "execution_count": 3,
     "metadata": {},
     "output_type": "execute_result"
    }
   ],
   "source": [
    "df.head()"
   ]
  },
  {
   "cell_type": "markdown",
   "id": "b2370c4a",
   "metadata": {},
   "source": [
    "HANDLING MISSING VALUES"
   ]
  },
  {
   "cell_type": "code",
   "execution_count": 4,
   "id": "33c17f08",
   "metadata": {
    "scrolled": true
   },
   "outputs": [
    {
     "data": {
      "text/plain": [
       "Index          0\n",
       "Age            7\n",
       "Salary         0\n",
       "Rating         1\n",
       "Location       0\n",
       "Established    0\n",
       "Easy Apply     0\n",
       "dtype: int64"
      ]
     },
     "execution_count": 4,
     "metadata": {},
     "output_type": "execute_result"
    }
   ],
   "source": [
    "df.isnull().sum()"
   ]
  },
  {
   "cell_type": "code",
   "execution_count": 5,
   "id": "1a2e2d86",
   "metadata": {},
   "outputs": [],
   "source": [
    "age = round(df['Age'].mean(),1)"
   ]
  },
  {
   "cell_type": "code",
   "execution_count": 6,
   "id": "020925a9",
   "metadata": {},
   "outputs": [
    {
     "data": {
      "text/plain": [
       "39.0"
      ]
     },
     "execution_count": 6,
     "metadata": {},
     "output_type": "execute_result"
    }
   ],
   "source": [
    "age"
   ]
  },
  {
   "cell_type": "code",
   "execution_count": 7,
   "id": "265068f0",
   "metadata": {},
   "outputs": [],
   "source": [
    "df['Age'] = df.Age.fillna(age)"
   ]
  },
  {
   "cell_type": "code",
   "execution_count": 8,
   "id": "330f217a",
   "metadata": {
    "scrolled": true
   },
   "outputs": [
    {
     "data": {
      "text/html": [
       "<div>\n",
       "<style scoped>\n",
       "    .dataframe tbody tr th:only-of-type {\n",
       "        vertical-align: middle;\n",
       "    }\n",
       "\n",
       "    .dataframe tbody tr th {\n",
       "        vertical-align: top;\n",
       "    }\n",
       "\n",
       "    .dataframe thead th {\n",
       "        text-align: right;\n",
       "    }\n",
       "</style>\n",
       "<table border=\"1\" class=\"dataframe\">\n",
       "  <thead>\n",
       "    <tr style=\"text-align: right;\">\n",
       "      <th></th>\n",
       "      <th>Index</th>\n",
       "      <th>Age</th>\n",
       "      <th>Salary</th>\n",
       "      <th>Rating</th>\n",
       "      <th>Location</th>\n",
       "      <th>Established</th>\n",
       "      <th>Easy Apply</th>\n",
       "    </tr>\n",
       "  </thead>\n",
       "  <tbody>\n",
       "    <tr>\n",
       "      <th>26</th>\n",
       "      <td>26</td>\n",
       "      <td>39.0</td>\n",
       "      <td>$55k-$66k</td>\n",
       "      <td>NaN</td>\n",
       "      <td>India,In</td>\n",
       "      <td>1934</td>\n",
       "      <td>TRUE</td>\n",
       "    </tr>\n",
       "  </tbody>\n",
       "</table>\n",
       "</div>"
      ],
      "text/plain": [
       "    Index   Age     Salary  Rating  Location  Established Easy Apply\n",
       "26     26  39.0  $55k-$66k     NaN  India,In         1934       TRUE"
      ]
     },
     "execution_count": 8,
     "metadata": {},
     "output_type": "execute_result"
    }
   ],
   "source": [
    "df[df['Rating'].isnull()]"
   ]
  },
  {
   "cell_type": "code",
   "execution_count": 9,
   "id": "3479c702",
   "metadata": {},
   "outputs": [],
   "source": [
    "df['Rating'] = df.Rating.fillna(df['Rating'].median())"
   ]
  },
  {
   "cell_type": "code",
   "execution_count": 10,
   "id": "3e7e44f5",
   "metadata": {},
   "outputs": [
    {
     "data": {
      "text/plain": [
       "Index          0\n",
       "Age            0\n",
       "Salary         0\n",
       "Rating         0\n",
       "Location       0\n",
       "Established    0\n",
       "Easy Apply     0\n",
       "dtype: int64"
      ]
     },
     "execution_count": 10,
     "metadata": {},
     "output_type": "execute_result"
    }
   ],
   "source": [
    "df.isnull().sum()"
   ]
  },
  {
   "cell_type": "markdown",
   "id": "d7e839fc",
   "metadata": {},
   "source": [
    "CHECKING DATA TYPES"
   ]
  },
  {
   "cell_type": "code",
   "execution_count": 11,
   "id": "9f4b7c5e",
   "metadata": {},
   "outputs": [
    {
     "data": {
      "text/plain": [
       "Index            int64\n",
       "Age            float64\n",
       "Salary          object\n",
       "Rating         float64\n",
       "Location        object\n",
       "Established      int64\n",
       "Easy Apply      object\n",
       "dtype: object"
      ]
     },
     "execution_count": 11,
     "metadata": {},
     "output_type": "execute_result"
    }
   ],
   "source": [
    "df.dtypes"
   ]
  },
  {
   "cell_type": "code",
   "execution_count": 81,
   "id": "1dc75f1a",
   "metadata": {},
   "outputs": [],
   "source": [
    "## Index Age Rating Established are Numericals.\n",
    "## Salary and Easy Apply are categorical\n",
    "## Salary should be in numerical so we will convert it"
   ]
  },
  {
   "cell_type": "markdown",
   "id": "ee663864",
   "metadata": {},
   "source": [
    "Outliers using IQR method"
   ]
  },
  {
   "cell_type": "code",
   "execution_count": 71,
   "id": "e91bf3b9",
   "metadata": {},
   "outputs": [],
   "source": [
    "Q1 = df[['Age','Salary','Rating']].quantile(0.25)\n",
    "Q3 = df[['Age','Salary','Rating']].quantile(0.75)"
   ]
  },
  {
   "cell_type": "code",
   "execution_count": 72,
   "id": "52cb0ce3",
   "metadata": {},
   "outputs": [
    {
     "data": {
      "text/plain": [
       "(Age       32.0\n",
       " Rating     1.4\n",
       " Name: 0.25, dtype: float64,\n",
       " Age       44.0\n",
       " Rating     5.4\n",
       " Name: 0.75, dtype: float64)"
      ]
     },
     "execution_count": 72,
     "metadata": {},
     "output_type": "execute_result"
    }
   ],
   "source": [
    "Q1, Q3"
   ]
  },
  {
   "cell_type": "code",
   "execution_count": 73,
   "id": "0f34fd2c",
   "metadata": {},
   "outputs": [],
   "source": [
    "IQR = Q3-Q1"
   ]
  },
  {
   "cell_type": "code",
   "execution_count": 74,
   "id": "6ba06d0b",
   "metadata": {},
   "outputs": [
    {
     "data": {
      "text/plain": [
       "Age       12.0\n",
       "Rating     4.0\n",
       "dtype: float64"
      ]
     },
     "execution_count": 74,
     "metadata": {},
     "output_type": "execute_result"
    }
   ],
   "source": [
    "IQR"
   ]
  },
  {
   "cell_type": "code",
   "execution_count": 79,
   "id": "52d863a6",
   "metadata": {},
   "outputs": [
    {
     "data": {
      "text/plain": [
       "Age       14.0\n",
       "Rating    -4.6\n",
       "dtype: float64"
      ]
     },
     "execution_count": 79,
     "metadata": {},
     "output_type": "execute_result"
    }
   ],
   "source": [
    "lower_fence = (Q1 - 1.5*IQR)\n",
    "lower_fence"
   ]
  },
  {
   "cell_type": "code",
   "execution_count": 80,
   "id": "d3f898e6",
   "metadata": {},
   "outputs": [
    {
     "data": {
      "text/plain": [
       "Age       62.0\n",
       "Rating    11.4\n",
       "dtype: float64"
      ]
     },
     "execution_count": 80,
     "metadata": {},
     "output_type": "execute_result"
    }
   ],
   "source": [
    "upper_fence = (Q3 + 1.5*IQR)\n",
    "upper_fence"
   ]
  },
  {
   "cell_type": "code",
   "execution_count": 82,
   "id": "9cccd982",
   "metadata": {},
   "outputs": [],
   "source": [
    "##Anything lower than Age = 14 and rating = -4.6 and upper than Age = 62 and Rating = 11.4 are outliers"
   ]
  },
  {
   "cell_type": "code",
   "execution_count": 83,
   "id": "9049db8b",
   "metadata": {},
   "outputs": [],
   "source": [
    "##Dataset is small so we should not remove the outlier. we can convert salary range into the average between two numbers."
   ]
  },
  {
   "cell_type": "code",
   "execution_count": 13,
   "id": "87833c7f",
   "metadata": {},
   "outputs": [
    {
     "data": {
      "text/html": [
       "<div>\n",
       "<style scoped>\n",
       "    .dataframe tbody tr th:only-of-type {\n",
       "        vertical-align: middle;\n",
       "    }\n",
       "\n",
       "    .dataframe tbody tr th {\n",
       "        vertical-align: top;\n",
       "    }\n",
       "\n",
       "    .dataframe thead th {\n",
       "        text-align: right;\n",
       "    }\n",
       "</style>\n",
       "<table border=\"1\" class=\"dataframe\">\n",
       "  <thead>\n",
       "    <tr style=\"text-align: right;\">\n",
       "      <th></th>\n",
       "      <th>Index</th>\n",
       "      <th>Age</th>\n",
       "      <th>Salary</th>\n",
       "      <th>Rating</th>\n",
       "      <th>Location</th>\n",
       "      <th>Established</th>\n",
       "      <th>Easy Apply</th>\n",
       "    </tr>\n",
       "  </thead>\n",
       "  <tbody>\n",
       "    <tr>\n",
       "      <th>0</th>\n",
       "      <td>0</td>\n",
       "      <td>44.0</td>\n",
       "      <td>$44k-$99k</td>\n",
       "      <td>5.4</td>\n",
       "      <td>India,In</td>\n",
       "      <td>1999</td>\n",
       "      <td>TRUE</td>\n",
       "    </tr>\n",
       "    <tr>\n",
       "      <th>1</th>\n",
       "      <td>1</td>\n",
       "      <td>66.0</td>\n",
       "      <td>$55k-$66k</td>\n",
       "      <td>3.5</td>\n",
       "      <td>New York,Ny</td>\n",
       "      <td>2002</td>\n",
       "      <td>TRUE</td>\n",
       "    </tr>\n",
       "    <tr>\n",
       "      <th>2</th>\n",
       "      <td>2</td>\n",
       "      <td>39.0</td>\n",
       "      <td>$77k-$89k</td>\n",
       "      <td>-1.0</td>\n",
       "      <td>New York,Ny</td>\n",
       "      <td>-1</td>\n",
       "      <td>-1</td>\n",
       "    </tr>\n",
       "    <tr>\n",
       "      <th>3</th>\n",
       "      <td>3</td>\n",
       "      <td>64.0</td>\n",
       "      <td>$44k-$99k</td>\n",
       "      <td>4.4</td>\n",
       "      <td>India In</td>\n",
       "      <td>1988</td>\n",
       "      <td>-1</td>\n",
       "    </tr>\n",
       "    <tr>\n",
       "      <th>4</th>\n",
       "      <td>4</td>\n",
       "      <td>25.0</td>\n",
       "      <td>$44k-$99k</td>\n",
       "      <td>6.4</td>\n",
       "      <td>Australia Aus</td>\n",
       "      <td>2002</td>\n",
       "      <td>-1</td>\n",
       "    </tr>\n",
       "  </tbody>\n",
       "</table>\n",
       "</div>"
      ],
      "text/plain": [
       "   Index   Age     Salary  Rating       Location  Established Easy Apply\n",
       "0      0  44.0  $44k-$99k     5.4       India,In         1999       TRUE\n",
       "1      1  66.0  $55k-$66k     3.5    New York,Ny         2002       TRUE\n",
       "2      2  39.0  $77k-$89k    -1.0    New York,Ny           -1         -1\n",
       "3      3  64.0  $44k-$99k     4.4       India In         1988         -1\n",
       "4      4  25.0  $44k-$99k     6.4  Australia Aus         2002         -1"
      ]
     },
     "execution_count": 13,
     "metadata": {},
     "output_type": "execute_result"
    }
   ],
   "source": [
    "df.head()"
   ]
  },
  {
   "cell_type": "code",
   "execution_count": 37,
   "id": "cf2947d2",
   "metadata": {},
   "outputs": [],
   "source": [
    "df2 = df.copy()"
   ]
  },
  {
   "cell_type": "markdown",
   "id": "b76307b8",
   "metadata": {},
   "source": [
    "Salary Formatting"
   ]
  },
  {
   "cell_type": "code",
   "execution_count": 38,
   "id": "05765607",
   "metadata": {},
   "outputs": [
    {
     "data": {
      "text/plain": [
       "<bound method Series.unique of 0      $44k-$99k\n",
       "1      $55k-$66k\n",
       "2      $77k-$89k\n",
       "3      $44k-$99k\n",
       "4      $44k-$99k\n",
       "5      $77k-$89k\n",
       "6      $44k-$99k\n",
       "7      $44k-$99k\n",
       "8      $44k-$99k\n",
       "9      $44k-$99k\n",
       "10     $10k-$49k\n",
       "11     $10k-$49k\n",
       "12     $44k-$99k\n",
       "13     $44k-$99k\n",
       "14     $44k-$99k\n",
       "15    $88k-$101k\n",
       "16     $19k-$40k\n",
       "17     $44k-$99k\n",
       "18     $44k-$99k\n",
       "19     $44k-$99k\n",
       "20     $44k-$99k\n",
       "21     $44k-$99k\n",
       "22     $55k-$66k\n",
       "23     $44k-$99k\n",
       "24     $44k-$99k\n",
       "25     $44k-$99k\n",
       "26     $55k-$66k\n",
       "27     $44k-$99k\n",
       "28     $39k-$88k\n",
       "Name: Salary, dtype: object>"
      ]
     },
     "execution_count": 38,
     "metadata": {},
     "output_type": "execute_result"
    }
   ],
   "source": [
    "df2['Salary'].unique"
   ]
  },
  {
   "cell_type": "code",
   "execution_count": 39,
   "id": "d97a8691",
   "metadata": {},
   "outputs": [
    {
     "name": "stderr",
     "output_type": "stream",
     "text": [
      "C:\\Users\\Piyush Rawat\\AppData\\Local\\Temp\\ipykernel_6104\\1525845370.py:1: FutureWarning: The default value of regex will change from True to False in a future version. In addition, single character regular expressions will *not* be treated as literal strings when regex=True.\n",
      "  df2['Salary'] = df2.Salary.str.replace('$','').str.replace('k','000')\n"
     ]
    }
   ],
   "source": [
    "df2['Salary'] = df2.Salary.str.replace('$','').str.replace('k','000')"
   ]
  },
  {
   "cell_type": "code",
   "execution_count": 40,
   "id": "60c5877c",
   "metadata": {},
   "outputs": [
    {
     "data": {
      "text/html": [
       "<div>\n",
       "<style scoped>\n",
       "    .dataframe tbody tr th:only-of-type {\n",
       "        vertical-align: middle;\n",
       "    }\n",
       "\n",
       "    .dataframe tbody tr th {\n",
       "        vertical-align: top;\n",
       "    }\n",
       "\n",
       "    .dataframe thead th {\n",
       "        text-align: right;\n",
       "    }\n",
       "</style>\n",
       "<table border=\"1\" class=\"dataframe\">\n",
       "  <thead>\n",
       "    <tr style=\"text-align: right;\">\n",
       "      <th></th>\n",
       "      <th>Index</th>\n",
       "      <th>Age</th>\n",
       "      <th>Salary</th>\n",
       "      <th>Rating</th>\n",
       "      <th>Location</th>\n",
       "      <th>Established</th>\n",
       "      <th>Easy Apply</th>\n",
       "    </tr>\n",
       "  </thead>\n",
       "  <tbody>\n",
       "    <tr>\n",
       "      <th>0</th>\n",
       "      <td>0</td>\n",
       "      <td>44.0</td>\n",
       "      <td>44000-99000</td>\n",
       "      <td>5.4</td>\n",
       "      <td>India,In</td>\n",
       "      <td>1999</td>\n",
       "      <td>TRUE</td>\n",
       "    </tr>\n",
       "    <tr>\n",
       "      <th>1</th>\n",
       "      <td>1</td>\n",
       "      <td>66.0</td>\n",
       "      <td>55000-66000</td>\n",
       "      <td>3.5</td>\n",
       "      <td>New York,Ny</td>\n",
       "      <td>2002</td>\n",
       "      <td>TRUE</td>\n",
       "    </tr>\n",
       "    <tr>\n",
       "      <th>2</th>\n",
       "      <td>2</td>\n",
       "      <td>39.0</td>\n",
       "      <td>77000-89000</td>\n",
       "      <td>-1.0</td>\n",
       "      <td>New York,Ny</td>\n",
       "      <td>-1</td>\n",
       "      <td>-1</td>\n",
       "    </tr>\n",
       "    <tr>\n",
       "      <th>3</th>\n",
       "      <td>3</td>\n",
       "      <td>64.0</td>\n",
       "      <td>44000-99000</td>\n",
       "      <td>4.4</td>\n",
       "      <td>India In</td>\n",
       "      <td>1988</td>\n",
       "      <td>-1</td>\n",
       "    </tr>\n",
       "    <tr>\n",
       "      <th>4</th>\n",
       "      <td>4</td>\n",
       "      <td>25.0</td>\n",
       "      <td>44000-99000</td>\n",
       "      <td>6.4</td>\n",
       "      <td>Australia Aus</td>\n",
       "      <td>2002</td>\n",
       "      <td>-1</td>\n",
       "    </tr>\n",
       "  </tbody>\n",
       "</table>\n",
       "</div>"
      ],
      "text/plain": [
       "   Index   Age       Salary  Rating       Location  Established Easy Apply\n",
       "0      0  44.0  44000-99000     5.4       India,In         1999       TRUE\n",
       "1      1  66.0  55000-66000     3.5    New York,Ny         2002       TRUE\n",
       "2      2  39.0  77000-89000    -1.0    New York,Ny           -1         -1\n",
       "3      3  64.0  44000-99000     4.4       India In         1988         -1\n",
       "4      4  25.0  44000-99000     6.4  Australia Aus         2002         -1"
      ]
     },
     "execution_count": 40,
     "metadata": {},
     "output_type": "execute_result"
    }
   ],
   "source": [
    "df2.head()"
   ]
  },
  {
   "cell_type": "code",
   "execution_count": 41,
   "id": "661b44b6",
   "metadata": {},
   "outputs": [],
   "source": [
    "df2.Salary = df2['Salary'].str.split('-')"
   ]
  },
  {
   "cell_type": "code",
   "execution_count": 42,
   "id": "140d9833",
   "metadata": {},
   "outputs": [],
   "source": [
    "## I will convert the range into the average between the two numbers"
   ]
  },
  {
   "cell_type": "code",
   "execution_count": 43,
   "id": "94139ed2",
   "metadata": {},
   "outputs": [
    {
     "data": {
      "text/html": [
       "<div>\n",
       "<style scoped>\n",
       "    .dataframe tbody tr th:only-of-type {\n",
       "        vertical-align: middle;\n",
       "    }\n",
       "\n",
       "    .dataframe tbody tr th {\n",
       "        vertical-align: top;\n",
       "    }\n",
       "\n",
       "    .dataframe thead th {\n",
       "        text-align: right;\n",
       "    }\n",
       "</style>\n",
       "<table border=\"1\" class=\"dataframe\">\n",
       "  <thead>\n",
       "    <tr style=\"text-align: right;\">\n",
       "      <th></th>\n",
       "      <th>Index</th>\n",
       "      <th>Age</th>\n",
       "      <th>Salary</th>\n",
       "      <th>Rating</th>\n",
       "      <th>Location</th>\n",
       "      <th>Established</th>\n",
       "      <th>Easy Apply</th>\n",
       "    </tr>\n",
       "  </thead>\n",
       "  <tbody>\n",
       "    <tr>\n",
       "      <th>0</th>\n",
       "      <td>0</td>\n",
       "      <td>44.0</td>\n",
       "      <td>[44000, 99000]</td>\n",
       "      <td>5.4</td>\n",
       "      <td>India,In</td>\n",
       "      <td>1999</td>\n",
       "      <td>TRUE</td>\n",
       "    </tr>\n",
       "    <tr>\n",
       "      <th>1</th>\n",
       "      <td>1</td>\n",
       "      <td>66.0</td>\n",
       "      <td>[55000, 66000]</td>\n",
       "      <td>3.5</td>\n",
       "      <td>New York,Ny</td>\n",
       "      <td>2002</td>\n",
       "      <td>TRUE</td>\n",
       "    </tr>\n",
       "    <tr>\n",
       "      <th>2</th>\n",
       "      <td>2</td>\n",
       "      <td>39.0</td>\n",
       "      <td>[77000, 89000]</td>\n",
       "      <td>-1.0</td>\n",
       "      <td>New York,Ny</td>\n",
       "      <td>-1</td>\n",
       "      <td>-1</td>\n",
       "    </tr>\n",
       "    <tr>\n",
       "      <th>3</th>\n",
       "      <td>3</td>\n",
       "      <td>64.0</td>\n",
       "      <td>[44000, 99000]</td>\n",
       "      <td>4.4</td>\n",
       "      <td>India In</td>\n",
       "      <td>1988</td>\n",
       "      <td>-1</td>\n",
       "    </tr>\n",
       "    <tr>\n",
       "      <th>4</th>\n",
       "      <td>4</td>\n",
       "      <td>25.0</td>\n",
       "      <td>[44000, 99000]</td>\n",
       "      <td>6.4</td>\n",
       "      <td>Australia Aus</td>\n",
       "      <td>2002</td>\n",
       "      <td>-1</td>\n",
       "    </tr>\n",
       "  </tbody>\n",
       "</table>\n",
       "</div>"
      ],
      "text/plain": [
       "   Index   Age          Salary  Rating       Location  Established Easy Apply\n",
       "0      0  44.0  [44000, 99000]     5.4       India,In         1999       TRUE\n",
       "1      1  66.0  [55000, 66000]     3.5    New York,Ny         2002       TRUE\n",
       "2      2  39.0  [77000, 89000]    -1.0    New York,Ny           -1         -1\n",
       "3      3  64.0  [44000, 99000]     4.4       India In         1988         -1\n",
       "4      4  25.0  [44000, 99000]     6.4  Australia Aus         2002         -1"
      ]
     },
     "execution_count": 43,
     "metadata": {},
     "output_type": "execute_result"
    }
   ],
   "source": [
    "df2.head()"
   ]
  },
  {
   "cell_type": "code",
   "execution_count": 44,
   "id": "a6148fd2",
   "metadata": {},
   "outputs": [],
   "source": [
    "def convert_salary(salary):\n",
    "    salary = list(map(int, salary))\n",
    "    return sum(salary)/len(salary)"
   ]
  },
  {
   "cell_type": "code",
   "execution_count": 45,
   "id": "68bea73d",
   "metadata": {},
   "outputs": [],
   "source": [
    "df2.Salary = df2['Salary'].apply(convert_salary)"
   ]
  },
  {
   "cell_type": "code",
   "execution_count": 46,
   "id": "85f8163a",
   "metadata": {},
   "outputs": [
    {
     "data": {
      "text/html": [
       "<div>\n",
       "<style scoped>\n",
       "    .dataframe tbody tr th:only-of-type {\n",
       "        vertical-align: middle;\n",
       "    }\n",
       "\n",
       "    .dataframe tbody tr th {\n",
       "        vertical-align: top;\n",
       "    }\n",
       "\n",
       "    .dataframe thead th {\n",
       "        text-align: right;\n",
       "    }\n",
       "</style>\n",
       "<table border=\"1\" class=\"dataframe\">\n",
       "  <thead>\n",
       "    <tr style=\"text-align: right;\">\n",
       "      <th></th>\n",
       "      <th>Index</th>\n",
       "      <th>Age</th>\n",
       "      <th>Salary</th>\n",
       "      <th>Rating</th>\n",
       "      <th>Location</th>\n",
       "      <th>Established</th>\n",
       "      <th>Easy Apply</th>\n",
       "    </tr>\n",
       "  </thead>\n",
       "  <tbody>\n",
       "    <tr>\n",
       "      <th>0</th>\n",
       "      <td>0</td>\n",
       "      <td>44.0</td>\n",
       "      <td>71500.0</td>\n",
       "      <td>5.4</td>\n",
       "      <td>India,In</td>\n",
       "      <td>1999</td>\n",
       "      <td>TRUE</td>\n",
       "    </tr>\n",
       "    <tr>\n",
       "      <th>1</th>\n",
       "      <td>1</td>\n",
       "      <td>66.0</td>\n",
       "      <td>60500.0</td>\n",
       "      <td>3.5</td>\n",
       "      <td>New York,Ny</td>\n",
       "      <td>2002</td>\n",
       "      <td>TRUE</td>\n",
       "    </tr>\n",
       "    <tr>\n",
       "      <th>2</th>\n",
       "      <td>2</td>\n",
       "      <td>39.0</td>\n",
       "      <td>83000.0</td>\n",
       "      <td>-1.0</td>\n",
       "      <td>New York,Ny</td>\n",
       "      <td>-1</td>\n",
       "      <td>-1</td>\n",
       "    </tr>\n",
       "    <tr>\n",
       "      <th>3</th>\n",
       "      <td>3</td>\n",
       "      <td>64.0</td>\n",
       "      <td>71500.0</td>\n",
       "      <td>4.4</td>\n",
       "      <td>India In</td>\n",
       "      <td>1988</td>\n",
       "      <td>-1</td>\n",
       "    </tr>\n",
       "    <tr>\n",
       "      <th>4</th>\n",
       "      <td>4</td>\n",
       "      <td>25.0</td>\n",
       "      <td>71500.0</td>\n",
       "      <td>6.4</td>\n",
       "      <td>Australia Aus</td>\n",
       "      <td>2002</td>\n",
       "      <td>-1</td>\n",
       "    </tr>\n",
       "  </tbody>\n",
       "</table>\n",
       "</div>"
      ],
      "text/plain": [
       "   Index   Age   Salary  Rating       Location  Established Easy Apply\n",
       "0      0  44.0  71500.0     5.4       India,In         1999       TRUE\n",
       "1      1  66.0  60500.0     3.5    New York,Ny         2002       TRUE\n",
       "2      2  39.0  83000.0    -1.0    New York,Ny           -1         -1\n",
       "3      3  64.0  71500.0     4.4       India In         1988         -1\n",
       "4      4  25.0  71500.0     6.4  Australia Aus         2002         -1"
      ]
     },
     "execution_count": 46,
     "metadata": {},
     "output_type": "execute_result"
    }
   ],
   "source": [
    "df2.head()"
   ]
  },
  {
   "cell_type": "markdown",
   "id": "2fb1e153",
   "metadata": {},
   "source": [
    "Fixing Rating column if there is any value in negative it will be 0"
   ]
  },
  {
   "cell_type": "code",
   "execution_count": 47,
   "id": "eac9312a",
   "metadata": {},
   "outputs": [],
   "source": [
    "def rating(col):\n",
    "    if col < 0:\n",
    "        return 0\n",
    "    else:\n",
    "        return col"
   ]
  },
  {
   "cell_type": "code",
   "execution_count": 48,
   "id": "a20af34a",
   "metadata": {},
   "outputs": [],
   "source": [
    "df2['Rating'] = df2.Rating.apply(rating)"
   ]
  },
  {
   "cell_type": "code",
   "execution_count": 49,
   "id": "43db3ab6",
   "metadata": {},
   "outputs": [
    {
     "data": {
      "text/html": [
       "<div>\n",
       "<style scoped>\n",
       "    .dataframe tbody tr th:only-of-type {\n",
       "        vertical-align: middle;\n",
       "    }\n",
       "\n",
       "    .dataframe tbody tr th {\n",
       "        vertical-align: top;\n",
       "    }\n",
       "\n",
       "    .dataframe thead th {\n",
       "        text-align: right;\n",
       "    }\n",
       "</style>\n",
       "<table border=\"1\" class=\"dataframe\">\n",
       "  <thead>\n",
       "    <tr style=\"text-align: right;\">\n",
       "      <th></th>\n",
       "      <th>Index</th>\n",
       "      <th>Age</th>\n",
       "      <th>Salary</th>\n",
       "      <th>Rating</th>\n",
       "      <th>Location</th>\n",
       "      <th>Established</th>\n",
       "      <th>Easy Apply</th>\n",
       "    </tr>\n",
       "  </thead>\n",
       "  <tbody>\n",
       "    <tr>\n",
       "      <th>0</th>\n",
       "      <td>0</td>\n",
       "      <td>44.0</td>\n",
       "      <td>71500.0</td>\n",
       "      <td>5.4</td>\n",
       "      <td>India,In</td>\n",
       "      <td>1999</td>\n",
       "      <td>TRUE</td>\n",
       "    </tr>\n",
       "    <tr>\n",
       "      <th>1</th>\n",
       "      <td>1</td>\n",
       "      <td>66.0</td>\n",
       "      <td>60500.0</td>\n",
       "      <td>3.5</td>\n",
       "      <td>New York,Ny</td>\n",
       "      <td>2002</td>\n",
       "      <td>TRUE</td>\n",
       "    </tr>\n",
       "    <tr>\n",
       "      <th>2</th>\n",
       "      <td>2</td>\n",
       "      <td>39.0</td>\n",
       "      <td>83000.0</td>\n",
       "      <td>0.0</td>\n",
       "      <td>New York,Ny</td>\n",
       "      <td>-1</td>\n",
       "      <td>-1</td>\n",
       "    </tr>\n",
       "    <tr>\n",
       "      <th>3</th>\n",
       "      <td>3</td>\n",
       "      <td>64.0</td>\n",
       "      <td>71500.0</td>\n",
       "      <td>4.4</td>\n",
       "      <td>India In</td>\n",
       "      <td>1988</td>\n",
       "      <td>-1</td>\n",
       "    </tr>\n",
       "    <tr>\n",
       "      <th>4</th>\n",
       "      <td>4</td>\n",
       "      <td>25.0</td>\n",
       "      <td>71500.0</td>\n",
       "      <td>6.4</td>\n",
       "      <td>Australia Aus</td>\n",
       "      <td>2002</td>\n",
       "      <td>-1</td>\n",
       "    </tr>\n",
       "  </tbody>\n",
       "</table>\n",
       "</div>"
      ],
      "text/plain": [
       "   Index   Age   Salary  Rating       Location  Established Easy Apply\n",
       "0      0  44.0  71500.0     5.4       India,In         1999       TRUE\n",
       "1      1  66.0  60500.0     3.5    New York,Ny         2002       TRUE\n",
       "2      2  39.0  83000.0     0.0    New York,Ny           -1         -1\n",
       "3      3  64.0  71500.0     4.4       India In         1988         -1\n",
       "4      4  25.0  71500.0     6.4  Australia Aus         2002         -1"
      ]
     },
     "execution_count": 49,
     "metadata": {},
     "output_type": "execute_result"
    }
   ],
   "source": [
    "df2.head()"
   ]
  },
  {
   "cell_type": "markdown",
   "id": "2efec6b8",
   "metadata": {},
   "source": [
    "Replacing -1 in established with its median and -1 in Easy apply with False"
   ]
  },
  {
   "cell_type": "code",
   "execution_count": 50,
   "id": "360fd61d",
   "metadata": {},
   "outputs": [],
   "source": [
    "df2['Established'] = df2['Established'].replace(-1,df2.Established.median())"
   ]
  },
  {
   "cell_type": "code",
   "execution_count": 51,
   "id": "49b0ba1a",
   "metadata": {},
   "outputs": [],
   "source": [
    "df2['Easy Apply'] = df2['Easy Apply'].str.replace('-1', 'FALSE')"
   ]
  },
  {
   "cell_type": "code",
   "execution_count": 52,
   "id": "876f5410",
   "metadata": {},
   "outputs": [
    {
     "data": {
      "text/html": [
       "<div>\n",
       "<style scoped>\n",
       "    .dataframe tbody tr th:only-of-type {\n",
       "        vertical-align: middle;\n",
       "    }\n",
       "\n",
       "    .dataframe tbody tr th {\n",
       "        vertical-align: top;\n",
       "    }\n",
       "\n",
       "    .dataframe thead th {\n",
       "        text-align: right;\n",
       "    }\n",
       "</style>\n",
       "<table border=\"1\" class=\"dataframe\">\n",
       "  <thead>\n",
       "    <tr style=\"text-align: right;\">\n",
       "      <th></th>\n",
       "      <th>Index</th>\n",
       "      <th>Age</th>\n",
       "      <th>Salary</th>\n",
       "      <th>Rating</th>\n",
       "      <th>Location</th>\n",
       "      <th>Established</th>\n",
       "      <th>Easy Apply</th>\n",
       "    </tr>\n",
       "  </thead>\n",
       "  <tbody>\n",
       "    <tr>\n",
       "      <th>0</th>\n",
       "      <td>0</td>\n",
       "      <td>44.0</td>\n",
       "      <td>71500.0</td>\n",
       "      <td>5.4</td>\n",
       "      <td>India,In</td>\n",
       "      <td>1999</td>\n",
       "      <td>TRUE</td>\n",
       "    </tr>\n",
       "    <tr>\n",
       "      <th>1</th>\n",
       "      <td>1</td>\n",
       "      <td>66.0</td>\n",
       "      <td>60500.0</td>\n",
       "      <td>3.5</td>\n",
       "      <td>New York,Ny</td>\n",
       "      <td>2002</td>\n",
       "      <td>TRUE</td>\n",
       "    </tr>\n",
       "    <tr>\n",
       "      <th>2</th>\n",
       "      <td>2</td>\n",
       "      <td>39.0</td>\n",
       "      <td>83000.0</td>\n",
       "      <td>0.0</td>\n",
       "      <td>New York,Ny</td>\n",
       "      <td>1984</td>\n",
       "      <td>FALSE</td>\n",
       "    </tr>\n",
       "    <tr>\n",
       "      <th>3</th>\n",
       "      <td>3</td>\n",
       "      <td>64.0</td>\n",
       "      <td>71500.0</td>\n",
       "      <td>4.4</td>\n",
       "      <td>India In</td>\n",
       "      <td>1988</td>\n",
       "      <td>FALSE</td>\n",
       "    </tr>\n",
       "    <tr>\n",
       "      <th>4</th>\n",
       "      <td>4</td>\n",
       "      <td>25.0</td>\n",
       "      <td>71500.0</td>\n",
       "      <td>6.4</td>\n",
       "      <td>Australia Aus</td>\n",
       "      <td>2002</td>\n",
       "      <td>FALSE</td>\n",
       "    </tr>\n",
       "  </tbody>\n",
       "</table>\n",
       "</div>"
      ],
      "text/plain": [
       "   Index   Age   Salary  Rating       Location  Established Easy Apply\n",
       "0      0  44.0  71500.0     5.4       India,In         1999       TRUE\n",
       "1      1  66.0  60500.0     3.5    New York,Ny         2002       TRUE\n",
       "2      2  39.0  83000.0     0.0    New York,Ny         1984      FALSE\n",
       "3      3  64.0  71500.0     4.4       India In         1988      FALSE\n",
       "4      4  25.0  71500.0     6.4  Australia Aus         2002      FALSE"
      ]
     },
     "execution_count": 52,
     "metadata": {},
     "output_type": "execute_result"
    }
   ],
   "source": [
    "df2.head()"
   ]
  },
  {
   "cell_type": "code",
   "execution_count": 53,
   "id": "c4274b32",
   "metadata": {},
   "outputs": [
    {
     "data": {
      "text/plain": [
       "<bound method Series.unique of 0          India,In\n",
       "1       New York,Ny\n",
       "2       New York,Ny\n",
       "3          India In\n",
       "4     Australia Aus\n",
       "5          India,In\n",
       "6       New York,Ny\n",
       "7     Australia Aus\n",
       "8       New York,Ny\n",
       "9          India,In\n",
       "10         India,In\n",
       "11         India,In\n",
       "12         India,In\n",
       "13    Australia Aus\n",
       "14    Australia Aus\n",
       "15    Australia Aus\n",
       "16         India,In\n",
       "17      New York,Ny\n",
       "18      New York,Ny\n",
       "19      New York,Ny\n",
       "20      New York,Ny\n",
       "21      New York,Ny\n",
       "22      New York,Ny\n",
       "23      New York,Ny\n",
       "24      New York,Ny\n",
       "25    Australia Aus\n",
       "26         India,In\n",
       "27         India,In\n",
       "28    Australia Aus\n",
       "Name: Location, dtype: object>"
      ]
     },
     "execution_count": 53,
     "metadata": {},
     "output_type": "execute_result"
    }
   ],
   "source": [
    "## Fixing Location column\n",
    "df2.Location.unique"
   ]
  },
  {
   "cell_type": "code",
   "execution_count": 54,
   "id": "6a124d53",
   "metadata": {},
   "outputs": [],
   "source": [
    "def loc(location):\n",
    "    location = location.replace('India In', 'India,In').replace('Australia Aus','Australia,Aus')\n",
    "    #Ensuring constant delimiter\n",
    "    if ',' not in location:\n",
    "        location = location.replace(' ',',')\n",
    "    return location"
   ]
  },
  {
   "cell_type": "code",
   "execution_count": 55,
   "id": "1256762b",
   "metadata": {},
   "outputs": [],
   "source": [
    "df2.Location = df2['Location'].apply(loc)"
   ]
  },
  {
   "cell_type": "code",
   "execution_count": 56,
   "id": "46c5bd65",
   "metadata": {},
   "outputs": [
    {
     "data": {
      "text/html": [
       "<div>\n",
       "<style scoped>\n",
       "    .dataframe tbody tr th:only-of-type {\n",
       "        vertical-align: middle;\n",
       "    }\n",
       "\n",
       "    .dataframe tbody tr th {\n",
       "        vertical-align: top;\n",
       "    }\n",
       "\n",
       "    .dataframe thead th {\n",
       "        text-align: right;\n",
       "    }\n",
       "</style>\n",
       "<table border=\"1\" class=\"dataframe\">\n",
       "  <thead>\n",
       "    <tr style=\"text-align: right;\">\n",
       "      <th></th>\n",
       "      <th>Index</th>\n",
       "      <th>Age</th>\n",
       "      <th>Salary</th>\n",
       "      <th>Rating</th>\n",
       "      <th>Location</th>\n",
       "      <th>Established</th>\n",
       "      <th>Easy Apply</th>\n",
       "    </tr>\n",
       "  </thead>\n",
       "  <tbody>\n",
       "    <tr>\n",
       "      <th>0</th>\n",
       "      <td>0</td>\n",
       "      <td>44.0</td>\n",
       "      <td>71500.0</td>\n",
       "      <td>5.4</td>\n",
       "      <td>India,In</td>\n",
       "      <td>1999</td>\n",
       "      <td>TRUE</td>\n",
       "    </tr>\n",
       "    <tr>\n",
       "      <th>1</th>\n",
       "      <td>1</td>\n",
       "      <td>66.0</td>\n",
       "      <td>60500.0</td>\n",
       "      <td>3.5</td>\n",
       "      <td>New York,Ny</td>\n",
       "      <td>2002</td>\n",
       "      <td>TRUE</td>\n",
       "    </tr>\n",
       "    <tr>\n",
       "      <th>2</th>\n",
       "      <td>2</td>\n",
       "      <td>39.0</td>\n",
       "      <td>83000.0</td>\n",
       "      <td>0.0</td>\n",
       "      <td>New York,Ny</td>\n",
       "      <td>1984</td>\n",
       "      <td>FALSE</td>\n",
       "    </tr>\n",
       "    <tr>\n",
       "      <th>3</th>\n",
       "      <td>3</td>\n",
       "      <td>64.0</td>\n",
       "      <td>71500.0</td>\n",
       "      <td>4.4</td>\n",
       "      <td>India,In</td>\n",
       "      <td>1988</td>\n",
       "      <td>FALSE</td>\n",
       "    </tr>\n",
       "    <tr>\n",
       "      <th>4</th>\n",
       "      <td>4</td>\n",
       "      <td>25.0</td>\n",
       "      <td>71500.0</td>\n",
       "      <td>6.4</td>\n",
       "      <td>Australia,Aus</td>\n",
       "      <td>2002</td>\n",
       "      <td>FALSE</td>\n",
       "    </tr>\n",
       "    <tr>\n",
       "      <th>5</th>\n",
       "      <td>5</td>\n",
       "      <td>44.0</td>\n",
       "      <td>83000.0</td>\n",
       "      <td>1.4</td>\n",
       "      <td>India,In</td>\n",
       "      <td>1999</td>\n",
       "      <td>TRUE</td>\n",
       "    </tr>\n",
       "    <tr>\n",
       "      <th>6</th>\n",
       "      <td>6</td>\n",
       "      <td>21.0</td>\n",
       "      <td>71500.0</td>\n",
       "      <td>0.0</td>\n",
       "      <td>New York,Ny</td>\n",
       "      <td>1984</td>\n",
       "      <td>FALSE</td>\n",
       "    </tr>\n",
       "    <tr>\n",
       "      <th>7</th>\n",
       "      <td>7</td>\n",
       "      <td>44.0</td>\n",
       "      <td>71500.0</td>\n",
       "      <td>0.0</td>\n",
       "      <td>Australia,Aus</td>\n",
       "      <td>1984</td>\n",
       "      <td>FALSE</td>\n",
       "    </tr>\n",
       "    <tr>\n",
       "      <th>8</th>\n",
       "      <td>8</td>\n",
       "      <td>35.0</td>\n",
       "      <td>71500.0</td>\n",
       "      <td>5.4</td>\n",
       "      <td>New York,Ny</td>\n",
       "      <td>1984</td>\n",
       "      <td>FALSE</td>\n",
       "    </tr>\n",
       "    <tr>\n",
       "      <th>9</th>\n",
       "      <td>9</td>\n",
       "      <td>22.0</td>\n",
       "      <td>71500.0</td>\n",
       "      <td>7.7</td>\n",
       "      <td>India,In</td>\n",
       "      <td>1984</td>\n",
       "      <td>TRUE</td>\n",
       "    </tr>\n",
       "    <tr>\n",
       "      <th>10</th>\n",
       "      <td>10</td>\n",
       "      <td>55.0</td>\n",
       "      <td>29500.0</td>\n",
       "      <td>5.4</td>\n",
       "      <td>India,In</td>\n",
       "      <td>2008</td>\n",
       "      <td>TRUE</td>\n",
       "    </tr>\n",
       "    <tr>\n",
       "      <th>11</th>\n",
       "      <td>11</td>\n",
       "      <td>44.0</td>\n",
       "      <td>29500.0</td>\n",
       "      <td>6.7</td>\n",
       "      <td>India,In</td>\n",
       "      <td>2009</td>\n",
       "      <td>FALSE</td>\n",
       "    </tr>\n",
       "    <tr>\n",
       "      <th>12</th>\n",
       "      <td>12</td>\n",
       "      <td>39.0</td>\n",
       "      <td>71500.0</td>\n",
       "      <td>0.0</td>\n",
       "      <td>India,In</td>\n",
       "      <td>1999</td>\n",
       "      <td>FALSE</td>\n",
       "    </tr>\n",
       "    <tr>\n",
       "      <th>13</th>\n",
       "      <td>13</td>\n",
       "      <td>25.0</td>\n",
       "      <td>71500.0</td>\n",
       "      <td>0.0</td>\n",
       "      <td>Australia,Aus</td>\n",
       "      <td>2019</td>\n",
       "      <td>TRUE</td>\n",
       "    </tr>\n",
       "    <tr>\n",
       "      <th>14</th>\n",
       "      <td>14</td>\n",
       "      <td>66.0</td>\n",
       "      <td>71500.0</td>\n",
       "      <td>4.0</td>\n",
       "      <td>Australia,Aus</td>\n",
       "      <td>2020</td>\n",
       "      <td>TRUE</td>\n",
       "    </tr>\n",
       "    <tr>\n",
       "      <th>15</th>\n",
       "      <td>15</td>\n",
       "      <td>44.0</td>\n",
       "      <td>94500.0</td>\n",
       "      <td>3.0</td>\n",
       "      <td>Australia,Aus</td>\n",
       "      <td>1999</td>\n",
       "      <td>FALSE</td>\n",
       "    </tr>\n",
       "    <tr>\n",
       "      <th>16</th>\n",
       "      <td>16</td>\n",
       "      <td>19.0</td>\n",
       "      <td>29500.0</td>\n",
       "      <td>4.5</td>\n",
       "      <td>India,In</td>\n",
       "      <td>1984</td>\n",
       "      <td>FALSE</td>\n",
       "    </tr>\n",
       "    <tr>\n",
       "      <th>17</th>\n",
       "      <td>17</td>\n",
       "      <td>39.0</td>\n",
       "      <td>71500.0</td>\n",
       "      <td>5.3</td>\n",
       "      <td>New York,Ny</td>\n",
       "      <td>1943</td>\n",
       "      <td>TRUE</td>\n",
       "    </tr>\n",
       "    <tr>\n",
       "      <th>18</th>\n",
       "      <td>18</td>\n",
       "      <td>35.0</td>\n",
       "      <td>71500.0</td>\n",
       "      <td>6.7</td>\n",
       "      <td>New York,Ny</td>\n",
       "      <td>1954</td>\n",
       "      <td>TRUE</td>\n",
       "    </tr>\n",
       "    <tr>\n",
       "      <th>19</th>\n",
       "      <td>19</td>\n",
       "      <td>32.0</td>\n",
       "      <td>71500.0</td>\n",
       "      <td>3.3</td>\n",
       "      <td>New York,Ny</td>\n",
       "      <td>1955</td>\n",
       "      <td>TRUE</td>\n",
       "    </tr>\n",
       "    <tr>\n",
       "      <th>20</th>\n",
       "      <td>20</td>\n",
       "      <td>39.0</td>\n",
       "      <td>71500.0</td>\n",
       "      <td>5.7</td>\n",
       "      <td>New York,Ny</td>\n",
       "      <td>1944</td>\n",
       "      <td>TRUE</td>\n",
       "    </tr>\n",
       "    <tr>\n",
       "      <th>21</th>\n",
       "      <td>21</td>\n",
       "      <td>35.0</td>\n",
       "      <td>71500.0</td>\n",
       "      <td>5.0</td>\n",
       "      <td>New York,Ny</td>\n",
       "      <td>1946</td>\n",
       "      <td>FALSE</td>\n",
       "    </tr>\n",
       "    <tr>\n",
       "      <th>22</th>\n",
       "      <td>22</td>\n",
       "      <td>19.0</td>\n",
       "      <td>60500.0</td>\n",
       "      <td>7.8</td>\n",
       "      <td>New York,Ny</td>\n",
       "      <td>1988</td>\n",
       "      <td>TRUE</td>\n",
       "    </tr>\n",
       "    <tr>\n",
       "      <th>23</th>\n",
       "      <td>23</td>\n",
       "      <td>39.0</td>\n",
       "      <td>71500.0</td>\n",
       "      <td>2.4</td>\n",
       "      <td>New York,Ny</td>\n",
       "      <td>1999</td>\n",
       "      <td>TRUE</td>\n",
       "    </tr>\n",
       "    <tr>\n",
       "      <th>24</th>\n",
       "      <td>24</td>\n",
       "      <td>13.0</td>\n",
       "      <td>71500.0</td>\n",
       "      <td>0.0</td>\n",
       "      <td>New York,Ny</td>\n",
       "      <td>1987</td>\n",
       "      <td>FALSE</td>\n",
       "    </tr>\n",
       "    <tr>\n",
       "      <th>25</th>\n",
       "      <td>25</td>\n",
       "      <td>55.0</td>\n",
       "      <td>71500.0</td>\n",
       "      <td>0.0</td>\n",
       "      <td>Australia,Aus</td>\n",
       "      <td>1980</td>\n",
       "      <td>TRUE</td>\n",
       "    </tr>\n",
       "    <tr>\n",
       "      <th>26</th>\n",
       "      <td>26</td>\n",
       "      <td>39.0</td>\n",
       "      <td>60500.0</td>\n",
       "      <td>4.2</td>\n",
       "      <td>India,In</td>\n",
       "      <td>1934</td>\n",
       "      <td>TRUE</td>\n",
       "    </tr>\n",
       "    <tr>\n",
       "      <th>27</th>\n",
       "      <td>27</td>\n",
       "      <td>52.0</td>\n",
       "      <td>71500.0</td>\n",
       "      <td>5.4</td>\n",
       "      <td>India,In</td>\n",
       "      <td>1935</td>\n",
       "      <td>FALSE</td>\n",
       "    </tr>\n",
       "    <tr>\n",
       "      <th>28</th>\n",
       "      <td>28</td>\n",
       "      <td>39.0</td>\n",
       "      <td>63500.0</td>\n",
       "      <td>3.4</td>\n",
       "      <td>Australia,Aus</td>\n",
       "      <td>1932</td>\n",
       "      <td>FALSE</td>\n",
       "    </tr>\n",
       "  </tbody>\n",
       "</table>\n",
       "</div>"
      ],
      "text/plain": [
       "    Index   Age   Salary  Rating       Location  Established Easy Apply\n",
       "0       0  44.0  71500.0     5.4       India,In         1999       TRUE\n",
       "1       1  66.0  60500.0     3.5    New York,Ny         2002       TRUE\n",
       "2       2  39.0  83000.0     0.0    New York,Ny         1984      FALSE\n",
       "3       3  64.0  71500.0     4.4       India,In         1988      FALSE\n",
       "4       4  25.0  71500.0     6.4  Australia,Aus         2002      FALSE\n",
       "5       5  44.0  83000.0     1.4       India,In         1999       TRUE\n",
       "6       6  21.0  71500.0     0.0    New York,Ny         1984      FALSE\n",
       "7       7  44.0  71500.0     0.0  Australia,Aus         1984      FALSE\n",
       "8       8  35.0  71500.0     5.4    New York,Ny         1984      FALSE\n",
       "9       9  22.0  71500.0     7.7       India,In         1984       TRUE\n",
       "10     10  55.0  29500.0     5.4       India,In         2008       TRUE\n",
       "11     11  44.0  29500.0     6.7       India,In         2009      FALSE\n",
       "12     12  39.0  71500.0     0.0       India,In         1999      FALSE\n",
       "13     13  25.0  71500.0     0.0  Australia,Aus         2019       TRUE\n",
       "14     14  66.0  71500.0     4.0  Australia,Aus         2020       TRUE\n",
       "15     15  44.0  94500.0     3.0  Australia,Aus         1999      FALSE\n",
       "16     16  19.0  29500.0     4.5       India,In         1984      FALSE\n",
       "17     17  39.0  71500.0     5.3    New York,Ny         1943       TRUE\n",
       "18     18  35.0  71500.0     6.7    New York,Ny         1954       TRUE\n",
       "19     19  32.0  71500.0     3.3    New York,Ny         1955       TRUE\n",
       "20     20  39.0  71500.0     5.7    New York,Ny         1944       TRUE\n",
       "21     21  35.0  71500.0     5.0    New York,Ny         1946      FALSE\n",
       "22     22  19.0  60500.0     7.8    New York,Ny         1988       TRUE\n",
       "23     23  39.0  71500.0     2.4    New York,Ny         1999       TRUE\n",
       "24     24  13.0  71500.0     0.0    New York,Ny         1987      FALSE\n",
       "25     25  55.0  71500.0     0.0  Australia,Aus         1980       TRUE\n",
       "26     26  39.0  60500.0     4.2       India,In         1934       TRUE\n",
       "27     27  52.0  71500.0     5.4       India,In         1935      FALSE\n",
       "28     28  39.0  63500.0     3.4  Australia,Aus         1932      FALSE"
      ]
     },
     "execution_count": 56,
     "metadata": {},
     "output_type": "execute_result"
    }
   ],
   "source": [
    "df2"
   ]
  },
  {
   "cell_type": "code",
   "execution_count": 57,
   "id": "2b88f643",
   "metadata": {},
   "outputs": [],
   "source": [
    "## Here the data cleanning is complete"
   ]
  },
  {
   "cell_type": "code",
   "execution_count": null,
   "id": "4d73d9d4",
   "metadata": {},
   "outputs": [],
   "source": [
    " "
   ]
  }
 ],
 "metadata": {
  "kernelspec": {
   "display_name": "Python 3 (ipykernel)",
   "language": "python",
   "name": "python3"
  },
  "language_info": {
   "codemirror_mode": {
    "name": "ipython",
    "version": 3
   },
   "file_extension": ".py",
   "mimetype": "text/x-python",
   "name": "python",
   "nbconvert_exporter": "python",
   "pygments_lexer": "ipython3",
   "version": "3.9.13"
  }
 },
 "nbformat": 4,
 "nbformat_minor": 5
}
