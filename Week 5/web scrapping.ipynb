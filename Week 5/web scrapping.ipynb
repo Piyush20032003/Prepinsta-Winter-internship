{
 "cells": [
  {
   "cell_type": "code",
   "execution_count": 1,
   "id": "83e31912",
   "metadata": {},
   "outputs": [],
   "source": [
    "import requests\n",
    "from bs4 import BeautifulSoup\n",
    "import pandas as pd"
   ]
  },
  {
   "cell_type": "code",
   "execution_count": 2,
   "id": "a56286ea",
   "metadata": {},
   "outputs": [],
   "source": [
    "## Website to scrape\n",
    "url = 'http://books.toscrape.com/'"
   ]
  },
  {
   "cell_type": "code",
   "execution_count": 3,
   "id": "5d6731a2",
   "metadata": {},
   "outputs": [],
   "source": [
    "response = requests.get(url)"
   ]
  },
  {
   "cell_type": "code",
   "execution_count": 4,
   "id": "e4af2f4a",
   "metadata": {},
   "outputs": [
    {
     "data": {
      "text/plain": [
       "<Response [200]>"
      ]
     },
     "execution_count": 4,
     "metadata": {},
     "output_type": "execute_result"
    }
   ],
   "source": [
    "response"
   ]
  },
  {
   "cell_type": "code",
   "execution_count": 5,
   "id": "abdee878",
   "metadata": {},
   "outputs": [],
   "source": [
    "soup = BeautifulSoup(response.text, 'html') ## It will parse the information in HTMl format"
   ]
  },
  {
   "cell_type": "code",
   "execution_count": 7,
   "id": "f7cb00e6",
   "metadata": {},
   "outputs": [],
   "source": [
    "book_tag = soup.find('title').text.strip()"
   ]
  },
  {
   "cell_type": "code",
   "execution_count": 8,
   "id": "b05b9e53",
   "metadata": {},
   "outputs": [],
   "source": [
    "book_tag = soup.find_all('article', class_='product_pod')"
   ]
  },
  {
   "cell_type": "code",
   "execution_count": 9,
   "id": "8a2c5fed",
   "metadata": {},
   "outputs": [
    {
     "data": {
      "text/plain": [
       "20"
      ]
     },
     "execution_count": 9,
     "metadata": {},
     "output_type": "execute_result"
    }
   ],
   "source": [
    "len(book_tag)"
   ]
  },
  {
   "cell_type": "code",
   "execution_count": 10,
   "id": "af01bb51",
   "metadata": {},
   "outputs": [],
   "source": [
    "book = book_tag[0]"
   ]
  },
  {
   "cell_type": "code",
   "execution_count": 11,
   "id": "cfdc4049",
   "metadata": {},
   "outputs": [
    {
     "data": {
      "text/plain": [
       "<article class=\"product_pod\">\n",
       "<div class=\"image_container\">\n",
       "<a href=\"catalogue/a-light-in-the-attic_1000/index.html\"><img alt=\"A Light in the Attic\" class=\"thumbnail\" src=\"media/cache/2c/da/2cdad67c44b002e7ead0cc35693c0e8b.jpg\"/></a>\n",
       "</div>\n",
       "<p class=\"star-rating Three\">\n",
       "<i class=\"icon-star\"></i>\n",
       "<i class=\"icon-star\"></i>\n",
       "<i class=\"icon-star\"></i>\n",
       "<i class=\"icon-star\"></i>\n",
       "<i class=\"icon-star\"></i>\n",
       "</p>\n",
       "<h3><a href=\"catalogue/a-light-in-the-attic_1000/index.html\" title=\"A Light in the Attic\">A Light in the ...</a></h3>\n",
       "<div class=\"product_price\">\n",
       "<p class=\"price_color\">Â£51.77</p>\n",
       "<p class=\"instock availability\">\n",
       "<i class=\"icon-ok\"></i>\n",
       "    \n",
       "        In stock\n",
       "    \n",
       "</p>\n",
       "<form>\n",
       "<button class=\"btn btn-primary btn-block\" data-loading-text=\"Adding...\" type=\"submit\">Add to basket</button>\n",
       "</form>\n",
       "</div>\n",
       "</article>"
      ]
     },
     "execution_count": 11,
     "metadata": {},
     "output_type": "execute_result"
    }
   ],
   "source": [
    "book"
   ]
  },
  {
   "cell_type": "code",
   "execution_count": 12,
   "id": "91aa9e5e",
   "metadata": {},
   "outputs": [],
   "source": [
    "title_tag = book.find('a',title=True)"
   ]
  },
  {
   "cell_type": "code",
   "execution_count": 13,
   "id": "b2755710",
   "metadata": {},
   "outputs": [
    {
     "data": {
      "text/plain": [
       "'A Light in the Attic'"
      ]
     },
     "execution_count": 13,
     "metadata": {},
     "output_type": "execute_result"
    }
   ],
   "source": [
    "title_tag['title']"
   ]
  },
  {
   "cell_type": "markdown",
   "id": "b8fa308e",
   "metadata": {},
   "source": [
    "Converting all the code under for loop "
   ]
  },
  {
   "cell_type": "code",
   "execution_count": 14,
   "id": "401efcad",
   "metadata": {},
   "outputs": [],
   "source": [
    "books = []"
   ]
  },
  {
   "cell_type": "code",
   "execution_count": 15,
   "id": "de4f6877",
   "metadata": {},
   "outputs": [],
   "source": [
    "for i in range(1,51):\n",
    "    url = f'http://books.toscrape.com/catalogue/page-{i}.html'\n",
    "    response = requests.get(url)\n",
    "    soup = BeautifulSoup(response.text,'html')\n",
    "    title = soup.find('a',title=True)['title']\n",
    "    price = soup.find('p', class_='price_color').text\n",
    "    star = soup.find('p')\n",
    "    rating = star['class'][1]\n",
    "    link = soup.find('a')['href']\n",
    "    full_link = f'https://books.toscrape.com/{link}'\n",
    "    books.append([title,price,rating,full_link])"
   ]
  },
  {
   "cell_type": "code",
   "execution_count": 29,
   "id": "93009c88",
   "metadata": {
    "scrolled": true
   },
   "outputs": [],
   "source": [
    "df = pd.DataFrame(books, columns=['Title', 'Price', 'Rating', 'Link'])\n",
    "df.to_csv('web scrapping books.csv', index = False)"
   ]
  },
  {
   "cell_type": "code",
   "execution_count": null,
   "id": "e9c41ded",
   "metadata": {},
   "outputs": [],
   "source": []
  }
 ],
 "metadata": {
  "kernelspec": {
   "display_name": "Python 3 (ipykernel)",
   "language": "python",
   "name": "python3"
  },
  "language_info": {
   "codemirror_mode": {
    "name": "ipython",
    "version": 3
   },
   "file_extension": ".py",
   "mimetype": "text/x-python",
   "name": "python",
   "nbconvert_exporter": "python",
   "pygments_lexer": "ipython3",
   "version": "3.9.13"
  }
 },
 "nbformat": 4,
 "nbformat_minor": 5
}
